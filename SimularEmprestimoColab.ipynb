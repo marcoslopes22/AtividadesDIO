{
  "nbformat": 4,
  "nbformat_minor": 0,
  "metadata": {
    "colab": {
      "name": "Atividade01.ipynb",
      "provenance": [],
      "collapsed_sections": [],
      "authorship_tag": "ABX9TyMHuLsAolOyBWERRHWOmaj1",
      "include_colab_link": true
    },
    "kernelspec": {
      "name": "python3",
      "display_name": "Python 3"
    },
    "language_info": {
      "name": "python"
    }
  },
  "cells": [
    {
      "cell_type": "markdown",
      "metadata": {
        "id": "view-in-github",
        "colab_type": "text"
      },
      "source": [
        "<a href=\"https://colab.research.google.com/github/marcoslopes22/AtividadesDIO/blob/main/Atividade01.ipynb\" target=\"_parent\"><img src=\"https://colab.research.google.com/assets/colab-badge.svg\" alt=\"Open In Colab\"/></a>"
      ]
    },
    {
      "cell_type": "code",
      "execution_count": 50,
      "metadata": {
        "id": "yCdFQQsy-nkL",
        "colab": {
          "base_uri": "https://localhost:8080/"
        },
        "outputId": "d888986e-de8d-4711-f99d-cafd91d29ca2"
      },
      "outputs": [
        {
          "output_type": "stream",
          "name": "stdout",
          "text": [
            "Bem-vindo ao nosso sistema de empréstimos!\n",
            "\n",
            "Digite o valor que você está precisando.: 200\n",
            "Em quantas vezes deseja dividir o pagamento?: 10\n",
            "\n",
            "Valor solicitado: R$ 200 reais.\n",
            "Taxa de serviço:  12 reais.\n",
            "Juros total (R$ 3 reais por parcela): R$ 30 reais\n",
            "\n",
            "Valor total: R$ 242 reais.\n",
            "Valor das parcelas:  24.2 reais/mês.\n"
          ]
        }
      ],
      "source": [
        "#ALUNO: MARCOS AURELIO\n",
        "#ATIVIDADE PRÁTICA DO CURSO \"ENTENDENDO MÉTODOS EM JAVA\" (DIGITAL INNOVATION ONE)\n",
        "\n",
        "#OBJETIVO: Calcular o preço total de um empréstimo, a partir do valor solicitado.\n",
        "\n",
        "print(\"Bem-vindo ao nosso sistema de empréstimos!\\n\")\n",
        "valorDoEmprestimo = int(input(\"Digite o valor que você está precisando.: \"))\n",
        "numeroDeParcelas = int(input(\"Em quantas vezes deseja dividir o pagamento?: \"))\n",
        "taxaDeServiço = 12\n",
        "jurosParcelamento = 3\n",
        "\n",
        "taxaFinalParcelamento = 0\n",
        "valorTotal = 0\n",
        "valorPorMes = 0\n",
        "\n",
        "def calcularParcelamento(taxaFinalParcelamento):\n",
        "  taxaFinalParcelamento = 0\n",
        "  for x in range(1, numeroDeParcelas + 1):\n",
        "    taxaFinalParcelamento = jurosParcelamento * x\n",
        "  print(\"Juros total (R$ 3 reais por parcela): R$\",taxaFinalParcelamento, \"reais\")\n",
        "  calcularValorTotal(taxaFinalParcelamento)\n",
        "\n",
        "def calcularValorTotal(taxaFinalParcelamento):\n",
        "  valorTotal = valorDoEmprestimo + taxaDeServiço + taxaFinalParcelamento\n",
        "  print(\"\\nValor total: R$\",valorTotal, \"reais.\")\n",
        "  calcularValorPorMes(valorTotal)\n",
        "\n",
        "def calcularValorPorMes(valorTotal):\n",
        "  valorPorMes = valorTotal / numeroDeParcelas\n",
        "  print(\"Valor das parcelas: \", valorPorMes, \"reais/mês.\")\n",
        "\n",
        "print(\"\\nValor solicitado: R$\",valorDoEmprestimo, \"reais.\")\n",
        "print(\"Taxa de serviço: \",taxaDeServiço, \"reais.\")\n",
        "\n",
        "calcularParcelamento(taxaFinalParcelamento)"
      ]
    }
  ]
}
